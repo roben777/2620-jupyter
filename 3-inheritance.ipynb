{
 "cells": [
  {
   "cell_type": "markdown",
   "id": "85a39099",
   "metadata": {},
   "source": [
    "# 3. OOP - inheritance\n",
    "\n",
    "## Objectives\n",
    "\n",
    "1. Students will define classes that inherit other classes.\n",
    "2. Students will write code that calls member functions of parent and child class.\n",
    "3. Students will use access control specification to manage which member data and functions from the parent class are accessible to the derived class.\n",
    "4. Students will overload arithmetic, relational, and assignment operators to work with their classes.\n",
    "4. Students will used virtual functions and abstract base classes to implement interfaces in C++.\n",
    "\n",
    "## Resources\n",
    "\n",
    "C++ Primer, [Chapter 15 (OOP)](https://cpp-primer.pages.dev/book/141-chapter_15._objectoriented_programming.html)\n",
    "\n",
    "## Quick summary\n",
    "\n",
    "**Inheritance:** a mechanism for deriving new classes from existing ones. Through inheritance, the child (derived class) receives all members (data and function) of the parent class and can add new member data and functions, or overload parent member functions.\n",
    "\n",
    "It is used for:\n",
    "\n",
    "1. Code reuse. \n",
    "2. Inheritance = foundation of an important OOP concept, **interfaces** (in C++, interfaces are called abstract base classes). **Polymorphism** is another important OOP concept which is closely linked to the notion of interface."
   ]
  },
  {
   "cell_type": "code",
   "execution_count": 1,
   "id": "b2dcf7e7",
   "metadata": {},
   "outputs": [],
   "source": [
    "// setup cell\n",
    "#include <iostream>"
   ]
  },
  {
   "cell_type": "markdown",
   "id": "2373004f",
   "metadata": {},
   "source": [
    "## Inheritance for code reuse\n",
    "\n",
    "Define a hierarchy of geometric figures that has a root parent class called *Figure*. Define a Triangle and a Rectangle class that inherits from Figure."
   ]
  },
  {
   "cell_type": "code",
   "execution_count": null,
   "id": "7d80b28b",
   "metadata": {},
   "outputs": [],
   "source": [
    "// base class\n",
    "class Figure {\n",
    "  private:\n",
    "    int x,y;  // position\n",
    "    \n",
    "  public:\n",
    "    Figure() {\n",
    "        x=y=0;\n",
    "    }\n",
    "    \n",
    "    Figure(int posx, int posy): x(posx), y(posy) {}\n",
    "    \n",
    "    // a general function that changes the position of the figure\n",
    "    void move(int newx, int newy) {\n",
    "        x = newx;  y = newy;\n",
    "    }\n",
    "}"
   ]
  },
  {
   "cell_type": "code",
   "execution_count": null,
   "id": "9f169174",
   "metadata": {},
   "outputs": [],
   "source": [
    "// derived class\n",
    "class Triangle : public Figure {\n",
    "  private: \n",
    "    int a, b, alpha;  // two sides a, b, and the angle alpha between a and b.\n",
    "  public: \n",
    "    Triangle(int pa, int pb, int palpha) {\n",
    "        a=pa;  b=pb;\n",
    "        alpha=palpha;\n",
    "    }\n",
    "    \n",
    "    void draw() {\n",
    "        std::cout << \"Draw triangle at (\" << x << \", \" << y << \")\"<< std::endl;\n",
    "    };\n",
    "}"
   ]
  },
  {
   "cell_type": "code",
   "execution_count": null,
   "id": "cfb19601",
   "metadata": {},
   "outputs": [],
   "source": [
    "Triangle t1(10, 14, 60);\n",
    "t1.move(10,10);  // t1 contains the members of Figure\n",
    "t1.draw();"
   ]
  },
  {
   "cell_type": "code",
   "execution_count": null,
   "id": "bfba8c92",
   "metadata": {},
   "outputs": [],
   "source": [
    "// derived class\n",
    "class Rectangle : public Figure {\n",
    "    int a, b;  // the length of two adjacent sides of the rectangle\n",
    "  public:\n",
    "    Rectangle(): a(0), b(0) {}\n",
    "    \n",
    "    Rectangle(int side1, int side2): a(side1), b(side2) {}\n",
    "    \n",
    "    void draw() {\n",
    "        std:: cout << \"Rectangle \" << a << \"x\" << b << \" at (\" << x << \",\" << y << \")\" << std::endl;\n",
    "    }\n",
    "}"
   ]
  },
  {
   "cell_type": "code",
   "execution_count": null,
   "id": "f671f998",
   "metadata": {},
   "outputs": [],
   "source": [
    "Rectangle r(4, 10);\n",
    "r.move(100,10);\n",
    "r.draw();\n",
    "std::cout << r.x;"
   ]
  },
  {
   "cell_type": "code",
   "execution_count": null,
   "id": "b6a5a8a6",
   "metadata": {},
   "outputs": [],
   "source": [
    "// base class with protected data members.\n",
    "class Figure {\n",
    "  protected:\n",
    "    int x,y;  // position\n",
    "    \n",
    "  public:\n",
    "    Figure() {\n",
    "        x=y=0;\n",
    "    }\n",
    "    \n",
    "    Figure(int posx, int posy): x(posx), y(posy) {}\n",
    "    \n",
    "    // a general function that changes the position of the figure\n",
    "    void move(int newx, int newy) {\n",
    "        x = newx;  y = newy;\n",
    "    }\n",
    "}"
   ]
  },
  {
   "cell_type": "markdown",
   "id": "27991b62",
   "metadata": {},
   "source": [
    "**Notes:**\n",
    "\n",
    "1. Parent class is specified after the class name, and before `{`. \n",
    "2. An access control keyword (ACK) preceding the parent class in the inheritance specification determines if the members of the parent class are visible in the derived class scope.\n",
    "\n",
    "`class Parent {\n",
    "  <parent ACK>:\n",
    "    some definitions...\n",
    "}`\n",
    "\n",
    "`class Child : <inheritance ACK> Parent {\n",
    "  definitions...\n",
    "}`\n",
    "\n",
    "| `<parent ACK>` | `<inheritance ACK>` | `Child::` | outside class scope |\n",
    "|--------------|-------------------|-----------|---------------------|\n",
    "| private | public | no | no |\n",
    "| protected | public | yes | no |\n",
    "| public | public | yes | yes |\n"
   ]
  },
  {
   "cell_type": "markdown",
   "id": "a04223ca",
   "metadata": {},
   "source": [
    "**Note**\n",
    "\n",
    "Base class member data and functions can be called from a derived class object. The `move` function in `Figure` is used by objects from the derived classes `Triangle` and `Rectangle'."
   ]
  },
  {
   "cell_type": "markdown",
   "id": "2a335b40",
   "metadata": {},
   "source": [
    "**Exercise**\n",
    "\n",
    "Use the Turtle class you developped in the exercises from `1-classes.ipynb` and add drawing functions to the Rectangle and Triangle class. Consider adding additional function members to the Turtle class, for example a `move()` member function. Add a pen color to the Turtle class.\n",
    "\n",
    "Discuss the possible ways that the Turtle class can be used to draw the Triangle and Rectangle classes. What are the advantages and disadvantages for each choice?\n",
    "\n",
    "  - Figure inherits from Turtle.\n",
    "  - Turtle inherits from Figure.\n",
    "  - Figure contains a Turtle object as data member.\n",
    "  - Rectangle and Triangle classes each contain a Turtle object.\n",
    "  - any other options you can think of?\n",
    "  "
   ]
  },
  {
   "cell_type": "code",
   "execution_count": null,
   "id": "37f8ae0e",
   "metadata": {},
   "outputs": [],
   "source": []
  },
  {
   "cell_type": "markdown",
   "id": "04de07c8",
   "metadata": {},
   "source": [
    "## Inheritance: constructors\n",
    "\n",
    "Inheritance = derived objects contain member data and functions from the base class. How are member data from the base class initialized?"
   ]
  },
  {
   "cell_type": "code",
   "execution_count": null,
   "id": "b3c1d3b0",
   "metadata": {},
   "outputs": [],
   "source": [
    "class Base {\n",
    "    protected:\n",
    "    int b;\n",
    "    \n",
    "    public:\n",
    "    Base(int val) {\n",
    "        b=val;\n",
    "        std::cout << \"Base constructor with \" << b << std::endl;\n",
    "    }\n",
    "    \n",
    "    void print() {\n",
    "        std::cout << \"Base::print \" << b << std::endl;\n",
    "    }\n",
    "}"
   ]
  },
  {
   "cell_type": "code",
   "execution_count": null,
   "id": "66de2a8f",
   "metadata": {},
   "outputs": [],
   "source": [
    "// derived class\n",
    "class Derived : public Base {\n",
    "    int d; // new member data\n",
    "    \n",
    "    public:\n",
    "    Derived(int bval, int dval);\n",
    "}"
   ]
  },
  {
   "cell_type": "code",
   "execution_count": null,
   "id": "d44239ca",
   "metadata": {},
   "outputs": [],
   "source": [
    "Derived::Derived(int bval, int dval): Base(bval) {\n",
    "    d = dval;\n",
    "    std::cout << \"Derived constructor with \" << d << std::endl;\n",
    "}"
   ]
  },
  {
   "cell_type": "code",
   "execution_count": null,
   "id": "690c3ff5",
   "metadata": {},
   "outputs": [],
   "source": [
    "Base bobj(10);\n",
    "Derived dobj(11, 100);"
   ]
  },
  {
   "cell_type": "markdown",
   "id": "b2210d36",
   "metadata": {},
   "source": [
    "Question: can we define the derived constructor without calling the base constructor in the initializer list?"
   ]
  },
  {
   "cell_type": "code",
   "execution_count": 5,
   "id": "dff20bd8",
   "metadata": {},
   "outputs": [],
   "source": [
    "Derived::Derived(int bval, int dval) {\n",
    "    b=bval;\n",
    "    d=dval;\n",
    "    std::cout << \"Derived constructor with \" << b << \" and \" << d << std::endl;\n",
    "}"
   ]
  },
  {
   "cell_type": "code",
   "execution_count": null,
   "id": "42bca964",
   "metadata": {},
   "outputs": [],
   "source": [
    "class Base {\n",
    "    protected:\n",
    "    int b;\n",
    "    \n",
    "    public:\n",
    "    Base(int val) {\n",
    "        b=val;\n",
    "        std::cout << \"Base constructor with \" << b << std::endl;\n",
    "    }\n",
    "    \n",
    "    Base() {\n",
    "        b=-1;\n",
    "        std::cout << \"Default Base constructor\" << std::endl;\n",
    "    }\n",
    "    \n",
    "    void print() {\n",
    "        std::cout << \"Base::print \" << b << std::endl;\n",
    "    }\n",
    "}"
   ]
  },
  {
   "cell_type": "markdown",
   "id": "f67d4467",
   "metadata": {},
   "source": [
    "**Note**\n",
    "\n",
    "A base class constructor is always called when a derived class object is constructed."
   ]
  },
  {
   "cell_type": "markdown",
   "id": "4973a816",
   "metadata": {},
   "source": [
    "## Inheritance: destructors\n",
    "\n",
    "In the same way as it happens with constructors of the derived class, destructors for both base and derived class are called when a derived class object goes out of scope."
   ]
  },
  {
   "cell_type": "code",
   "execution_count": 3,
   "id": "9322a81b",
   "metadata": {},
   "outputs": [],
   "source": [
    "class Base {\n",
    "    protected:\n",
    "    int b;\n",
    "    \n",
    "    public:\n",
    "    Base(int val) {\n",
    "        b=val;\n",
    "        std::cout << \"Base constructor with \" << b << std::endl;\n",
    "    }\n",
    "    \n",
    "    Base() {\n",
    "        b=-1;\n",
    "        std::cout << \"Default Base constructor\" << std::endl;\n",
    "    }\n",
    "\n",
    "    // destructor for Base\n",
    "    ~Base() {\n",
    "        std::cout << \"~Base()\" << std::endl;\n",
    "    }\n",
    "    \n",
    "    void print() {\n",
    "        std::cout << \"Base::print \" << b << std::endl;\n",
    "    }\n",
    "}"
   ]
  },
  {
   "cell_type": "code",
   "execution_count": 3,
   "id": "2c5e3cff",
   "metadata": {},
   "outputs": [],
   "source": [
    "// derived class \n",
    "class Derived : public Base {\n",
    "    int d; // new member data\n",
    "    \n",
    "    public:\n",
    "    Derived(int bval, int dval);\n",
    "    \n",
    "    // destructor for Derived\n",
    "    ~Derived() {\n",
    "        std::cout << \"~Derived()\" << std::endl;\n",
    "    }\n",
    "}"
   ]
  },
  {
   "cell_type": "code",
   "execution_count": 6,
   "id": "32fa5935",
   "metadata": {},
   "outputs": [
    {
     "name": "stdout",
     "output_type": "stream",
     "text": [
      "Default Base constructor\n",
      "Derived constructor with 1 and 2\n",
      "Base::print 1\n",
      "~Derived()\n",
      "~Base()\n"
     ]
    }
   ],
   "source": [
    "{\n",
    "    Derived dobj(1,2);\n",
    "    dobj.print();\n",
    "}"
   ]
  },
  {
   "cell_type": "markdown",
   "id": "4d4163ff",
   "metadata": {},
   "source": [
    "## Inheritance: overloading member functions\n",
    "\n",
    "A derived class can overload (redefine) inherited member functions. Both functions are available in a derived class. The compiler decides which function to call depending on the object type."
   ]
  },
  {
   "cell_type": "code",
   "execution_count": 5,
   "id": "eba54a03",
   "metadata": {},
   "outputs": [],
   "source": [
    "// derived class \n",
    "class Derived : public Base {\n",
    "    int d; // new member data\n",
    "    \n",
    "    public:\n",
    "    Derived(int bval, int dval);\n",
    "    \n",
    "    // destructor for Derived\n",
    "    ~Derived() {\n",
    "        std::cout << \"~Derived()\" << std::endl;\n",
    "    }\n",
    "    \n",
    "    void print() {\n",
    "        std::cout << \"Derived::print \" << b << \" , \" << d << std::endl;\n",
    "    }\n",
    "}"
   ]
  },
  {
   "cell_type": "code",
   "execution_count": 13,
   "id": "ae259fdf",
   "metadata": {},
   "outputs": [],
   "source": [
    "Derived::Derived(int bval, int dval): Base(bval) {\n",
    "    d = dval;\n",
    "    std::cout << \"Derived constructor with \" << d << std::endl;\n",
    "}"
   ]
  },
  {
   "cell_type": "code",
   "execution_count": 8,
   "id": "7c99a2c8",
   "metadata": {},
   "outputs": [
    {
     "name": "stdout",
     "output_type": "stream",
     "text": [
      "Base constructor with 10\n",
      "Base::print 10\n",
      "Base constructor with 22\n",
      "Derived constructor with 33\n",
      "Derived::print 22 , 33\n"
     ]
    }
   ],
   "source": [
    "// for an obj of type Base, Base::print is called\n",
    "Base bobj(10);\n",
    "bobj.print();\n",
    "\n",
    "// for an obj of type Derived, Derived::print is called\n",
    "Derived dobj(22,33);\n",
    "dobj.print();"
   ]
  },
  {
   "cell_type": "markdown",
   "id": "6d2893ff",
   "metadata": {},
   "source": [
    "We can call the base version of the overloaded function for a derived class object if we cast the derived object into the base class type."
   ]
  },
  {
   "cell_type": "code",
   "execution_count": 9,
   "id": "37492da8",
   "metadata": {},
   "outputs": [
    {
     "name": "stdout",
     "output_type": "stream",
     "text": [
      "Base::print 22\n",
      "~Base()\n"
     ]
    }
   ],
   "source": [
    "static_cast<Base>(dobj).print();"
   ]
  },
  {
   "cell_type": "code",
   "execution_count": 10,
   "id": "16e555dc",
   "metadata": {},
   "outputs": [
    {
     "name": "stdout",
     "output_type": "stream",
     "text": [
      "Derived::print 22 , 33\n"
     ]
    }
   ],
   "source": [
    "dobj.print();"
   ]
  },
  {
   "cell_type": "markdown",
   "id": "86733d76",
   "metadata": {},
   "source": [
    "We can call the base class overloaded member functions from the derived class scope using the scope operator:"
   ]
  },
  {
   "cell_type": "code",
   "execution_count": 11,
   "id": "d1c25776",
   "metadata": {},
   "outputs": [],
   "source": [
    "// redefine Derived\n",
    "class Derived : public Base {\n",
    "    int d; // new member data\n",
    "    \n",
    "    public:\n",
    "    Derived(int bval, int dval);\n",
    "    \n",
    "    // destructor for Derived\n",
    "    ~Derived() {\n",
    "        std::cout << \"~Derived()\" << std::endl;\n",
    "    }\n",
    "    \n",
    "    void print();\n",
    "}"
   ]
  },
  {
   "cell_type": "code",
   "execution_count": 12,
   "id": "7bed86a3",
   "metadata": {},
   "outputs": [],
   "source": [
    "void Derived::print() {\n",
    "    std::cout << \"Derived::print \" << d << \" and... \" << std::endl;\n",
    "    Base::print();\n",
    "}"
   ]
  },
  {
   "cell_type": "code",
   "execution_count": 14,
   "id": "66a3213c",
   "metadata": {},
   "outputs": [
    {
     "name": "stdout",
     "output_type": "stream",
     "text": [
      "Base constructor with 10\n",
      "Derived constructor with 20\n",
      "Derived::print 20 and... \n",
      "Base::print 10\n"
     ]
    }
   ],
   "source": [
    "Derived dobj(10,20);\n",
    "dobj.print();"
   ]
  },
  {
   "cell_type": "markdown",
   "id": "504c05f7",
   "metadata": {},
   "source": [
    "**Exercises**\n",
    "\n",
    "1. Define classes representing the following hierarchy of sports: RacquetSport, Tennis, Badminton, PickleBall, WinterSports, Ski, Snowboard. \n",
    "  1. Draw a hierarchy for these sports that YOU nthink is natural.\n",
    "  2. Write classes for each of these sports that contain a `void play()` member function that outputs instructions for what is needed to play. Example: you need to buy racquet to play racquet sports. And you need to go to a tennis court for tennis, a gym for badminton, etc. to play these sports. For winter sports, you need a jaket, and then you need either skis or snowboard to play those sports.\n",
    "  3. Write code for print in such  way as to maximize code reuse. "
   ]
  },
  {
   "cell_type": "markdown",
   "id": "c46139f7",
   "metadata": {},
   "source": [
    "## Overloading operators\n",
    "\n",
    "1. Arithmetic and relational\n",
    "2. Assignment\n",
    "3. More advice concerning operator overloading in [Chapter 14](https://cpp-primer.pages.dev/book/129-chapter_14._overloaded_operations_and_conversions.html) in the primer."
   ]
  },
  {
   "cell_type": "code",
   "execution_count": null,
   "id": "9b5bc001",
   "metadata": {},
   "outputs": [],
   "source": []
  }
 ],
 "metadata": {
  "kernelspec": {
   "display_name": "C++17",
   "language": "C++17",
   "name": "xcpp17"
  },
  "language_info": {
   "codemirror_mode": "text/x-c++src",
   "file_extension": ".cpp",
   "mimetype": "text/x-c++src",
   "name": "c++",
   "version": "17"
  }
 },
 "nbformat": 4,
 "nbformat_minor": 5
}
