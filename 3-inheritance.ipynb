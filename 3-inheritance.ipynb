{
 "cells": [
  {
   "cell_type": "markdown",
   "id": "85a39099",
   "metadata": {},
   "source": [
    "# 3. OOP - inheritance\n",
    "\n",
    "## Objectives\n",
    "\n",
    "1. Students will define classes that inherit other classes.\n",
    "2. Students will write code that calls member functions of parent and child class.\n",
    "3. Students will use access control specification to manage which member data and functions from the parent class are accessible to the derived class.\n",
    "4. Students will used virtual functions and abstract base classes to implement interfaces in C++.\n",
    "\n",
    "## Resources\n",
    "\n",
    "C++ Primer, [Chapter 15 (OOP)](https://cpp-primer.pages.dev/book/141-chapter_15._objectoriented_programming.html)\n",
    "\n",
    "## Quick summary\n",
    "\n",
    "**Inheritance:** a mechanism for deriving new classes from existing ones. Through inheritance, the child (derived class) receives all members (data and function) of the parent class and can add new member data and functions, or overload parent member functions.\n",
    "\n",
    "It is used for:\n",
    "\n",
    "1. Code reuse. \n",
    "2. Inheritance = foundation of an important OOP concept, **interfaces** (in C++, interfaces are called abstract base classes). **Polymorphism** is another important OOP concept which is closely linked to the notion of interface."
   ]
  },
  {
   "cell_type": "code",
   "execution_count": 1,
   "id": "b2dcf7e7",
   "metadata": {},
   "outputs": [],
   "source": [
    "// Setup cell\n",
    "#include <iostream>"
   ]
  },
  {
   "cell_type": "markdown",
   "id": "2373004f",
   "metadata": {},
   "source": [
    "## Inheritance for code reuse\n",
    "\n",
    "Define a hierarchy of geometric figures that has a root parent class called *Figure*. Define a Triangle and a Rectangle class that inherits from Figure."
   ]
  },
  {
   "cell_type": "code",
   "execution_count": 7,
   "id": "7d80b28b",
   "metadata": {},
   "outputs": [],
   "source": [
    "// base class\n",
    "class Figure {\n",
    "  private:\n",
    "    int x,y;  // position\n",
    "    \n",
    "  public:\n",
    "    Figure() {\n",
    "        x=y=0;\n",
    "    }\n",
    "    \n",
    "    Figure(int posx, int posy): x(posx), y(posy) {}\n",
    "    \n",
    "    // a general function that changes the position of the figure\n",
    "    void move(int newx, int newy) {\n",
    "        x = newx;  y = newy;\n",
    "    }\n",
    "}"
   ]
  },
  {
   "cell_type": "code",
   "execution_count": 8,
   "id": "9f169174",
   "metadata": {},
   "outputs": [],
   "source": [
    "// derived class\n",
    "class Triangle : public Figure {\n",
    "  private: \n",
    "    int a, b, alpha;  // two sides a, b, and the angle alpha between a and b.\n",
    "  public: \n",
    "    Triangle(int pa, int pb, int palpha) {\n",
    "        a=pa;  b=pb;\n",
    "        alpha=palpha;\n",
    "    }\n",
    "    \n",
    "    void draw() {\n",
    "        std::cout << \"Draw triangle\" << std::endl;\n",
    "    };\n",
    "}"
   ]
  },
  {
   "cell_type": "code",
   "execution_count": 9,
   "id": "cfb19601",
   "metadata": {},
   "outputs": [
    {
     "name": "stdout",
     "output_type": "stream",
     "text": [
      "Draw triangle\n"
     ]
    }
   ],
   "source": [
    "Triangle t1(10, 14, 60);\n",
    "t1.move(10,10);  // t1 contains the members of Figure\n",
    "t1.draw();"
   ]
  },
  {
   "cell_type": "code",
   "execution_count": 5,
   "id": "bfba8c92",
   "metadata": {},
   "outputs": [],
   "source": [
    "// derived class\n",
    "class Rectangle : public Figure {\n",
    "    int a, b;  // the length of two adjacent sides of the rectangle\n",
    "  public:\n",
    "    Rectangle(): a(0), b(0) {}\n",
    "    \n",
    "    Rectangle(int side1, int side2): a(side1), b(side2) {}\n",
    "    \n",
    "    void draw() {\n",
    "        std:: cout << \"Rectangle \" << a << \"x\" << b << \" at (\" << x << \",\" << y << \")\" << std::endl;\n",
    "    }\n",
    "}"
   ]
  },
  {
   "cell_type": "code",
   "execution_count": 6,
   "id": "f671f998",
   "metadata": {},
   "outputs": [
    {
     "name": "stdout",
     "output_type": "stream",
     "text": [
      "Rectangle 4x10 at (10,10)\n"
     ]
    }
   ],
   "source": [
    "Rectangle r(4, 10);\n",
    "r.move(10,10);\n",
    "r.draw();"
   ]
  },
  {
   "cell_type": "code",
   "execution_count": null,
   "id": "b6a5a8a6",
   "metadata": {},
   "outputs": [],
   "source": [
    "// base class with protected data members.\n",
    "class Figure {\n",
    "  protected:\n",
    "    int x,y;  // position\n",
    "    \n",
    "  public:\n",
    "    Figure() {\n",
    "        x=y=0;\n",
    "    }\n",
    "    \n",
    "    Figure(int posx, int posy): x(posx), y(posy) {}\n",
    "    \n",
    "    // a general function that changes the position of the figure\n",
    "    void move(int newx, int newy) {\n",
    "        x = newx;  y = newy;\n",
    "    }\n",
    "}"
   ]
  },
  {
   "cell_type": "markdown",
   "id": "27991b62",
   "metadata": {},
   "source": [
    "**Notes:**\n",
    "\n",
    "1. Parent class is specified after the class name, and before `{`. \n",
    "2. An access control keyword (ACK) preceding the parent class in the inheritance specification determines if the members of the parent class are visible in the derived class scope.\n",
    "\n",
    "`class Parent {\n",
    "  <parent ACK>:\n",
    "    some definitions...\n",
    "}`\n",
    "\n",
    "`class Child : <inheritance ACK> Parent {\n",
    "  definitions...\n",
    "}`\n",
    "\n",
    "| `<parent ACK>` | `<inheritance ACK>` | `Child::` | outside class scope |\n",
    "|--------------|-------------------|-----------|---------------------|\n",
    "| private | public | no | no |\n",
    "| protected | public | yes | no |\n",
    "| public | public | yes | yes |\n"
   ]
  },
  {
   "cell_type": "markdown",
   "id": "2a335b40",
   "metadata": {},
   "source": [
    "**Exercise**\n",
    "\n",
    "Use the Turtle class you developped in the exercises from `1-classes.ipynb` and add drawing functions to the Rectangle and Triangle class. Consider adding additional function members to the Turtle class, for example a `move()` member function. Add a pen color to the Turtle class.\n",
    "\n",
    "Discuss the possible ways that can the Turtle class can be used to draw the Triangle and Rectangle classes. What are the advantages and disadvantages for each choice?\n",
    "\n",
    "  - Figure inherits from Turtle.\n",
    "  - Turtle inherits from Figure.\n",
    "  - Figure contains a Turtle object as data member.\n",
    "  - Rectangle and Triangle classes each contain a Turtle object.\n",
    "  - any other options you can think of?\n",
    "  "
   ]
  },
  {
   "cell_type": "code",
   "execution_count": null,
   "id": "a0bd3908",
   "metadata": {},
   "outputs": [],
   "source": []
  }
 ],
 "metadata": {
  "kernelspec": {
   "display_name": "C++17",
   "language": "C++17",
   "name": "xcpp17"
  },
  "language_info": {
   "codemirror_mode": "text/x-c++src",
   "file_extension": ".cpp",
   "mimetype": "text/x-c++src",
   "name": "c++",
   "version": "17"
  }
 },
 "nbformat": 4,
 "nbformat_minor": 5
}
