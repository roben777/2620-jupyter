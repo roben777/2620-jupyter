{
 "cells": [
  {
   "cell_type": "markdown",
   "id": "6076dbbf",
   "metadata": {},
   "source": [
    "# Week 2 - Objectives\n",
    "\n",
    "1. Students will define classes and default, copy, and general constructors.\n",
    "2. Students will write code that calls each one of the three types of constructors above.\n",
    "\n",
    "## Reading:\n",
    "\n",
    "[C++ Primer](https://cpp-primer.pages.dev/), Chapter 7:\n",
    "\n",
    "1. Section 7.5 Constructors revisited (Attn!, C++11 rules)\n",
    "\n",
    "[cppreference.com - constructors and member initializer lists](https://www.en.cppreference.com/w/cpp/language/initializer_list.html) - mentions the differences between the C++ standards."
   ]
  },
  {
   "cell_type": "code",
   "execution_count": 1,
   "id": "bedeaccd",
   "metadata": {},
   "outputs": [],
   "source": [
    "// setup\n",
    "#include <iostream>"
   ]
  },
  {
   "cell_type": "markdown",
   "id": "bb33505a",
   "metadata": {},
   "source": [
    "# OOP - initialization: constructors\n",
    "Since data members should be private, we need a **function** to initialize data members. This function is called a constructor. The following kinds of constructors are defined, depending on the number of arguments:\n",
    "  - no arguments = default constructor\n",
    "  - one argument which is an object of the same class = copy constructor\n",
    "  - one or more arguments, not of the same class = general constructor\n",
    "  \n",
    "The constructor syntax is special, unlike that of declaring member functions."
   ]
  },
  {
   "cell_type": "code",
   "execution_count": null,
   "id": "8b390e0e",
   "metadata": {},
   "outputs": [],
   "source": [
    "class Rational {\n",
    "    int num, den;\n",
    "    \n",
    "  public:\n",
    "    // default\n",
    "    Rational() {\n",
    "        std::cout << \"Rational()\" << std::endl;\n",
    "    }\n",
    "    \n",
    "    // copy\n",
    "    Rational(const Rational &r) {\n",
    "        std::cout << \"Rational(const Rational&)\" << std::endl;\n",
    "    }\n",
    "    \n",
    "    // general constructor\n",
    "    Rational(int n, int d) {\n",
    "        std::cout << \"Rational(int, int)\" << std::endl;\n",
    "    }\n",
    "}"
   ]
  },
  {
   "cell_type": "markdown",
   "id": "3ffd8727",
   "metadata": {},
   "source": [
    "**Syntax for defining constructors:**\n",
    "  - one\n",
    "  - two"
   ]
  },
  {
   "cell_type": "code",
   "execution_count": null,
   "id": "6d8598a2",
   "metadata": {},
   "outputs": [],
   "source": [
    "// which constructors are called?\n",
    "Rational r1;"
   ]
  },
  {
   "cell_type": "code",
   "execution_count": null,
   "id": "778f6af2",
   "metadata": {},
   "outputs": [],
   "source": [
    "Rational r2 = r1;"
   ]
  },
  {
   "cell_type": "code",
   "execution_count": null,
   "id": "60b30bc8",
   "metadata": {},
   "outputs": [],
   "source": [
    "Rational r3(1,2);"
   ]
  },
  {
   "cell_type": "code",
   "execution_count": null,
   "id": "91d79055",
   "metadata": {},
   "outputs": [],
   "source": [
    "Rational r4 = {2,3};"
   ]
  },
  {
   "cell_type": "code",
   "execution_count": null,
   "id": "d1583c95",
   "metadata": {},
   "outputs": [],
   "source": [
    "Rational r5 = Rational(10,20);"
   ]
  },
  {
   "cell_type": "code",
   "execution_count": null,
   "id": "5e9e01bc",
   "metadata": {},
   "outputs": [],
   "source": [
    "void dummy(Rational r) {\n",
    "    std::cout << \"dummy(Rational)\" << std::endl;\n",
    "}\n",
    "\n",
    "void dummy_ref(Rational & r) {\n",
    "    std::cout << \"dummy_ref(Rational &)\" << std::endl;\n",
    "}"
   ]
  },
  {
   "cell_type": "code",
   "execution_count": null,
   "id": "16aeb8b4",
   "metadata": {},
   "outputs": [],
   "source": [
    "dummy(r1);"
   ]
  },
  {
   "cell_type": "code",
   "execution_count": null,
   "id": "54be2f87",
   "metadata": {},
   "outputs": [],
   "source": [
    "dummy_ref(r1);"
   ]
  },
  {
   "cell_type": "code",
   "execution_count": null,
   "id": "7d43e593",
   "metadata": {},
   "outputs": [],
   "source": [
    "r1 = r2;"
   ]
  },
  {
   "cell_type": "markdown",
   "id": "b56a4ecf",
   "metadata": {},
   "source": [
    "**Syntax for calling constructors**\n",
    "\n",
    "1. One"
   ]
  },
  {
   "cell_type": "markdown",
   "id": "070f33d1",
   "metadata": {},
   "source": [
    "**Exercises**\n",
    "\n",
    "1. Remove the debug/print statements from the rational class constructors and add useful initialization code. Remember that a rational cannot have a zero denominator.\n",
    "\n",
    "2. Think about how to handle the situation when a programmer declares a rational with a zero denominator:\n",
    "`Rational r(1,0);`."
   ]
  },
  {
   "cell_type": "code",
   "execution_count": null,
   "id": "a7a9bcc6",
   "metadata": {},
   "outputs": [],
   "source": []
  },
  {
   "cell_type": "markdown",
   "id": "d8b4c977",
   "metadata": {},
   "source": [
    "# The Yin and Yang of object initialization - destructors\n",
    "\n",
    "When an object goes out of scope (dies), a special function called **destructor** is called. Goal: to free any resources that the object has acquired."
   ]
  },
  {
   "cell_type": "code",
   "execution_count": 2,
   "id": "db812643",
   "metadata": {},
   "outputs": [],
   "source": [
    "class Rational {\n",
    "    int num, den;\n",
    "    \n",
    "  public:\n",
    "    // default\n",
    "    Rational() {\n",
    "        std::cout << \"Rational()\" << std::endl;\n",
    "    }\n",
    "    \n",
    "    // copy\n",
    "    Rational(const Rational &r) {\n",
    "        std::cout << \"Rational(const Rational&)\" << std::endl;\n",
    "    }\n",
    "    \n",
    "    // general constructor\n",
    "    Rational(int n, int d) {\n",
    "        std::cout << \"Rational(int, int)\" << std::endl;\n",
    "    }\n",
    "    \n",
    "    // destructor\n",
    "    ~Rational() {\n",
    "        std::cout << \"~Rational()\" << std::endl;\n",
    "    }\n",
    "}"
   ]
  },
  {
   "cell_type": "markdown",
   "id": "f59a5a07",
   "metadata": {},
   "source": [
    "**Syntax for defining destructors:**\n",
    "1. One "
   ]
  },
  {
   "cell_type": "code",
   "execution_count": 4,
   "id": "e176c79a",
   "metadata": {},
   "outputs": [
    {
     "name": "stdout",
     "output_type": "stream",
     "text": [
      "Rational()\n",
      "Do some work and we are done.\n",
      "~Rational()\n"
     ]
    }
   ],
   "source": [
    "// a destructor is called when an object goes out of scope.\n",
    "// So, we use a block statement to force this\n",
    "{\n",
    "    Rational r1;\n",
    "    std::cout << \"Do some work and we are done.\" << std::endl;\n",
    "}"
   ]
  },
  {
   "cell_type": "markdown",
   "id": "71181df8",
   "metadata": {},
   "source": [
    "**Syntax for calling destructors:**\n",
    "1. Destructors are not called explicitly by the programmer."
   ]
  },
  {
   "cell_type": "markdown",
   "id": "716f8401",
   "metadata": {},
   "source": [
    "# OOP - Resource Acquisition Is Initialization (RAII) #\n",
    "\n",
    "Rule: create an object whenever your program must acquire a resource (memory, socket, file, mutex, etc.) \n",
    "\n",
    "  - acquire the resource in the constructor\n",
    "  - release the resource in the destructor"
   ]
  },
  {
   "cell_type": "markdown",
   "id": "8b95bd39",
   "metadata": {},
   "source": [
    "Example: read the first character from each file in the current directory and print the character code on console."
   ]
  },
  {
   "cell_type": "code",
   "execution_count": null,
   "id": "480a5191",
   "metadata": {},
   "outputs": [],
   "source": []
  }
 ],
 "metadata": {
  "kernelspec": {
   "display_name": "C++17",
   "language": "C++17",
   "name": "xcpp17"
  },
  "language_info": {
   "codemirror_mode": "text/x-c++src",
   "file_extension": ".cpp",
   "mimetype": "text/x-c++src",
   "name": "c++",
   "version": "17"
  }
 },
 "nbformat": 4,
 "nbformat_minor": 5
}
