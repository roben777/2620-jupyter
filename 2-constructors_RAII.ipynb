{
 "cells": [
  {
   "cell_type": "markdown",
   "id": "3d48aef5",
   "metadata": {},
   "source": [
    "# Week 2 - Objectives\n",
    "\n",
    "1. Students will define classes and default, copy, and general constructors.\n",
    "2. Students will write code that calls each one of the three types of constructors above.\n",
    "3. Students will define destructors\n",
    "4. Students will follow the RAII principles and define resources management classes and objects. \n",
    "5. Students will explain how the constructors are called when objects are passed as arguments to functions.\n",
    "6. Students will explain which constructors are called when object data members are initilized.\n",
    "\n",
    "## Reading:\n",
    "\n",
    "[C++ Primer](https://cpp-primer.pages.dev/), Chapter 7:\n",
    "\n",
    "1. Section 7.5 Constructors revisited (Attn!, C++11 rules)\n",
    "\n",
    "[cppreference.com - constructors and member initializer lists](https://www.en.cppreference.com/w/cpp/language/initializer_list.html) - mentions the differences between the C++ standards."
   ]
  },
  {
   "cell_type": "code",
   "execution_count": 1,
   "id": "f6976c64",
   "metadata": {},
   "outputs": [],
   "source": [
    "// setup\n",
    "#include <iostream>\n",
    "#include <random>"
   ]
  },
  {
   "cell_type": "markdown",
   "id": "5887c92c",
   "metadata": {},
   "source": [
    "# OOP - initialization: constructors\n",
    "Since data members should be private, we need a **function** to initialize data members. This function is called a constructor. The following kinds of constructors are defined, depending on the number of arguments:\n",
    "  - no arguments = default constructor\n",
    "  - one argument which is an object of the same class = copy constructor\n",
    "  - one or more arguments, not of the same class = general constructor\n",
    "  \n",
    "The constructor syntax is special, unlike that of declaring member functions."
   ]
  },
  {
   "cell_type": "code",
   "execution_count": 2,
   "id": "eee3d860",
   "metadata": {},
   "outputs": [],
   "source": [
    "class Rational {\n",
    "    int num, den;\n",
    "    \n",
    "  public:\n",
    "    // default\n",
    "    Rational() {\n",
    "        std::cout << \"Rational()\" << std::endl;\n",
    "    }\n",
    "    \n",
    "    // copy\n",
    "    Rational(const Rational & r) {\n",
    "        std::cout << \"Rational(const Rational&)\" << std::endl;\n",
    "    }\n",
    "    \n",
    "    // general constructor\n",
    "    Rational(int n, int d) {\n",
    "        std::cout << \"Rational(int, int)\" << std::endl;\n",
    "    }\n",
    "    \n",
    "    // create a rational from an integer\n",
    "    Rational(int value) {\n",
    "        std::cout << \"Rational(int)\" << std::endl;\n",
    "        num = value;\n",
    "        den = 1;\n",
    "    }\n",
    "}"
   ]
  },
  {
   "cell_type": "markdown",
   "id": "3305beaf",
   "metadata": {},
   "source": [
    "**Syntax for defining constructors:**\n",
    "  - constructors are functions\n",
    "  - they don't have a return type\n",
    "  - same name as the class\n",
    "  - the copy constructor must have its argument passed by reference."
   ]
  },
  {
   "cell_type": "code",
   "execution_count": 3,
   "id": "cf45ff45",
   "metadata": {},
   "outputs": [
    {
     "name": "stdout",
     "output_type": "stream",
     "text": [
      "Rational()\n"
     ]
    }
   ],
   "source": [
    "// which constructors are called?\n",
    "Rational r1;"
   ]
  },
  {
   "cell_type": "code",
   "execution_count": 6,
   "id": "edf6ac1b",
   "metadata": {},
   "outputs": [
    {
     "name": "stdout",
     "output_type": "stream",
     "text": [
      "Rational(const Rational&)\n",
      "Rational(const Rational&)\n"
     ]
    }
   ],
   "source": [
    "Rational r2 = r1;\n",
    "Rational rr(r1);"
   ]
  },
  {
   "cell_type": "code",
   "execution_count": 7,
   "id": "cae9f262",
   "metadata": {},
   "outputs": [
    {
     "name": "stdout",
     "output_type": "stream",
     "text": [
      "Rational(int, int)\n"
     ]
    }
   ],
   "source": [
    "Rational r3(1,2);"
   ]
  },
  {
   "cell_type": "code",
   "execution_count": 8,
   "id": "49b45e98",
   "metadata": {},
   "outputs": [
    {
     "name": "stdout",
     "output_type": "stream",
     "text": [
      "Rational(int, int)\n"
     ]
    }
   ],
   "source": [
    "Rational r4 = {2,3};"
   ]
  },
  {
   "cell_type": "code",
   "execution_count": 10,
   "id": "52ace831",
   "metadata": {},
   "outputs": [
    {
     "name": "stdout",
     "output_type": "stream",
     "text": [
      "Rational(int, int)\n",
      "Rational(int, int)\n"
     ]
    }
   ],
   "source": [
    "Rational r5 = Rational(10,20);\n",
    "Rational rrr(Rational(1,2));"
   ]
  },
  {
   "cell_type": "code",
   "execution_count": 11,
   "id": "4a0d4b17",
   "metadata": {},
   "outputs": [],
   "source": [
    "void dummy(Rational r) {\n",
    "    std::cout << \"dummy(Rational)\" << std::endl;\n",
    "}"
   ]
  },
  {
   "cell_type": "code",
   "execution_count": 13,
   "id": "f755d724",
   "metadata": {},
   "outputs": [],
   "source": [
    "void dummy_ref(Rational & r) {\n",
    "    std::cout << \"dummy_ref(Rational &)\" << std::endl;\n",
    "}"
   ]
  },
  {
   "cell_type": "code",
   "execution_count": 12,
   "id": "8a22d884",
   "metadata": {},
   "outputs": [
    {
     "name": "stdout",
     "output_type": "stream",
     "text": [
      "Rational(const Rational&)\n",
      "dummy(Rational)\n"
     ]
    }
   ],
   "source": [
    "dummy(r1);"
   ]
  },
  {
   "cell_type": "code",
   "execution_count": 14,
   "id": "9db9884c",
   "metadata": {},
   "outputs": [
    {
     "name": "stdout",
     "output_type": "stream",
     "text": [
      "dummy_ref(Rational &)\n"
     ]
    }
   ],
   "source": [
    "dummy_ref(r1);"
   ]
  },
  {
   "cell_type": "code",
   "execution_count": 15,
   "id": "e3f3a00b",
   "metadata": {},
   "outputs": [],
   "source": [
    "r1 = r2;"
   ]
  },
  {
   "cell_type": "code",
   "execution_count": 4,
   "id": "51242a54",
   "metadata": {},
   "outputs": [
    {
     "name": "stdout",
     "output_type": "stream",
     "text": [
      "Rational(int)\n",
      "Rational(int)\n"
     ]
    }
   ],
   "source": [
    "Rational ri={3};\n",
    "Rational rii(4);"
   ]
  },
  {
   "cell_type": "markdown",
   "id": "4f440145",
   "metadata": {},
   "source": [
    "**Syntax for calling constructors**\n",
    "\n",
    "1. variable declaration with optional initialization.\n",
    "2. Syntax for initialization in declaration can use function call syntax `()` or struct initializer list `{}` and insert the arguments for the constructor.\n",
    "3. Constructors can be overloaded."
   ]
  },
  {
   "cell_type": "markdown",
   "id": "857b4c22",
   "metadata": {},
   "source": [
    "**Exercises**\n",
    "\n",
    "1. Remove the debug/print statements from the rational class constructors and add useful initialization code. Remember that a rational cannot have a zero denominator.\n",
    "\n",
    "2. Think about how to handle the situation when a programmer declares a rational with a zero denominator:\n",
    "`Rational r(1,0);`."
   ]
  },
  {
   "cell_type": "markdown",
   "id": "cd4dbe3f",
   "metadata": {},
   "source": [
    "**In-class exercise**\n",
    "\n",
    "  1. Consider the following rational object `rat` declared inside the body of a for loop. What is the scope of the variable?\n",
    "  2. Is a new `rat` object created every time the body of the loop executes?"
   ]
  },
  {
   "cell_type": "code",
   "execution_count": null,
   "id": "661f50af",
   "metadata": {},
   "outputs": [],
   "source": [
    "for (int i=0; i<10; i++) {\n",
    "    Rational rat;\n",
    "}"
   ]
  },
  {
   "cell_type": "markdown",
   "id": "6cdbcb4b",
   "metadata": {},
   "source": [
    "# The Yin and Yang of object initialization - destructors\n",
    "\n",
    "When an object goes out of scope (dies), a special function called **destructor** is called. Goal: to free any resources that the object has acquired."
   ]
  },
  {
   "cell_type": "code",
   "execution_count": 5,
   "id": "89a89ed0",
   "metadata": {},
   "outputs": [],
   "source": [
    "class Rational {\n",
    "    int num, den;\n",
    "    \n",
    "  public:\n",
    "    // default\n",
    "    Rational() {\n",
    "        std::cout << \"Rational()\" << std::endl;\n",
    "    }\n",
    "    \n",
    "    // copy\n",
    "    Rational(const Rational &r) {\n",
    "        std::cout << \"Rational(const Rational&)\" << std::endl;\n",
    "    }\n",
    "    \n",
    "    // general constructor\n",
    "    Rational(int n, int d) {\n",
    "        std::cout << \"Rational(int, int)\" << std::endl;\n",
    "    }\n",
    "    \n",
    "    // destructor\n",
    "    ~Rational() {\n",
    "        std::cout << \"~Rational()\" << std::endl;\n",
    "    }\n",
    "}"
   ]
  },
  {
   "cell_type": "markdown",
   "id": "6ee0d5bd",
   "metadata": {},
   "source": [
    "**Syntax for defining destructors:**\n",
    "1. class name with `~` in front of th name, no arguments, no return type. "
   ]
  },
  {
   "cell_type": "code",
   "execution_count": 6,
   "id": "bc89874a",
   "metadata": {},
   "outputs": [
    {
     "name": "stdout",
     "output_type": "stream",
     "text": [
      "Rational()\n",
      "Do some work and we are done.\n",
      "~Rational()\n"
     ]
    }
   ],
   "source": [
    "// a destructor is called when an object goes out of scope.\n",
    "// So, we use a block statement to force this\n",
    "{\n",
    "    Rational r1;\n",
    "    std::cout << \"Do some work and we are done.\" << std::endl;\n",
    "}"
   ]
  },
  {
   "cell_type": "markdown",
   "id": "8fdb4430",
   "metadata": {},
   "source": [
    "**Syntax for calling destructors:**\n",
    "1. Destructors are not called explicitly by the programmer."
   ]
  },
  {
   "cell_type": "markdown",
   "id": "aeaf0d9f",
   "metadata": {},
   "source": [
    "# OOP - Resource Acquisition Is Initialization (RAII) #\n",
    "\n",
    "Rule: create an object whenever your program must acquire a resource (memory, socket, file, mutex, etc.) \n",
    "\n",
    "  - acquire the resource in the constructor\n",
    "  - release the resource in the destructor"
   ]
  },
  {
   "cell_type": "markdown",
   "id": "9cdf8167",
   "metadata": {},
   "source": [
    "### Example:\n",
    "\n",
    "Suppose we need to execute `procedureA()`, but, to be successful, we must first acquire some resource `resourceR`. Of course, at the end, we must release `resourceR`. We define the following procedures that simulate these processes:"
   ]
  },
  {
   "cell_type": "code",
   "execution_count": null,
   "id": "7febfab9",
   "metadata": {},
   "outputs": [],
   "source": [
    "void procedureA() {\n",
    "    std::cout << \"Procedure A\" << std::endl;\n",
    "}"
   ]
  },
  {
   "cell_type": "code",
   "execution_count": null,
   "id": "6d48f1f6",
   "metadata": {},
   "outputs": [],
   "source": [
    "void acquireR() {\n",
    "    std::cout << \"Acquire R\" << std::endl;\n",
    "}"
   ]
  },
  {
   "cell_type": "code",
   "execution_count": null,
   "id": "d176f2b7",
   "metadata": {},
   "outputs": [],
   "source": [
    "void releaseR() {\n",
    "    std::cout << \"Release R\" << std::endl;\n",
    "}"
   ]
  },
  {
   "cell_type": "markdown",
   "id": "1a02c97f",
   "metadata": {},
   "source": [
    "Here is a valid sequence of operations:"
   ]
  },
  {
   "cell_type": "code",
   "execution_count": null,
   "id": "3cda6a50",
   "metadata": {},
   "outputs": [],
   "source": [
    "acquireR();\n",
    "procedureA();\n",
    "releaseR();"
   ]
  },
  {
   "cell_type": "markdown",
   "id": "c5731c62",
   "metadata": {},
   "source": [
    "Here is an invalid sequence (procedure A will fail because it does not have resource R to succeed):"
   ]
  },
  {
   "cell_type": "code",
   "execution_count": null,
   "id": "ad20a76b",
   "metadata": {},
   "outputs": [],
   "source": [
    "procedureA();\n",
    "acquireR();\n",
    "releaseR();"
   ]
  },
  {
   "cell_type": "markdown",
   "id": "1fe62b39",
   "metadata": {},
   "source": [
    "How about the following sequences?"
   ]
  },
  {
   "cell_type": "code",
   "execution_count": null,
   "id": "e1369df9",
   "metadata": {},
   "outputs": [],
   "source": [
    "acquireR();\n",
    "releaseR();\n",
    "procedureA();"
   ]
  },
  {
   "cell_type": "code",
   "execution_count": null,
   "id": "f5d8c7d0",
   "metadata": {},
   "outputs": [],
   "source": [
    "acquireR();\n",
    "acquireR();\n",
    "procedureA();\n",
    "releaseR();"
   ]
  },
  {
   "cell_type": "markdown",
   "id": "dabb3e81",
   "metadata": {},
   "source": [
    "We can more safely manage resource R if we assign the responsibility for its management to an object:\n",
    "  1. acquire the resource in the constructor\n",
    "  2. release the resource in the destructor\n",
    "  3. create a local resource management object every time we need the resource, for example in side a block statement.\n",
    "  \n",
    "This approach = RAII"
   ]
  },
  {
   "cell_type": "code",
   "execution_count": null,
   "id": "bf9a67ba",
   "metadata": {},
   "outputs": [],
   "source": [
    "// resource manager class\n",
    "class manageR {\n",
    "    public:\n",
    "        manageR() {\n",
    "            acquireR();\n",
    "        }\n",
    "    \n",
    "        ~manageR() {\n",
    "            releaseR();\n",
    "        }\n",
    "}"
   ]
  },
  {
   "cell_type": "code",
   "execution_count": null,
   "id": "50c4c5df",
   "metadata": {},
   "outputs": [],
   "source": [
    "// using the resource\n",
    "{\n",
    "    manageR robj;\n",
    "    procedureA();\n",
    "}"
   ]
  },
  {
   "cell_type": "markdown",
   "id": "3054de0c",
   "metadata": {},
   "source": [
    "**Advantages for RAII**\n",
    "  1. One\n",
    "  2. Two"
   ]
  },
  {
   "cell_type": "markdown",
   "id": "b0f9b6ad",
   "metadata": {},
   "source": [
    "**Exercise**: \n",
    "Suppose we expand the definition of resource R to include a number of units to be acquired. We also expand the definition of procedure A to require 10 units of R to complete. Procedure A also returns an integer between 0 and 10, representing the number of units of resource R needed by an additional procedure B. We define the following functions that simulate this process."
   ]
  },
  {
   "cell_type": "code",
   "execution_count": null,
   "id": "3ab260f6",
   "metadata": {},
   "outputs": [],
   "source": [
    "int procedureA() {\n",
    "    std::cout << \"Procedure A runs and needs 10 R\" << std::endl;\n",
    "    std::random_device rd;\n",
    "    std::minstd_rand gen(rd());                     \n",
    "    std::uniform_int_distribution<> distr(0, 10);  // Range: [0, 10]\n",
    "\n",
    "    int randomNumber = distr(gen);\n",
    "    std::cout << \"Procedure A returns \" << randomNumber << std::endl;\n",
    "    return randomNumber;\n",
    "}"
   ]
  },
  {
   "cell_type": "code",
   "execution_count": null,
   "id": "46534904",
   "metadata": {},
   "outputs": [],
   "source": [
    "void procedureB() {\n",
    "    std::cout << \"Procedure B\" << std::endl;\n",
    "}"
   ]
  },
  {
   "cell_type": "code",
   "execution_count": null,
   "id": "e9a1b4b0",
   "metadata": {},
   "outputs": [],
   "source": [
    "void acquireR(int units) {\n",
    "    std::cout << \"Acquire \"<< units << \" units of R\" << std::endl;\n",
    "}"
   ]
  },
  {
   "cell_type": "code",
   "execution_count": null,
   "id": "c9ec9bfb",
   "metadata": {},
   "outputs": [],
   "source": [
    "void releaseR(int units) {\n",
    "    std::cout << \"Release \"<< units << \" units of R\" << std::endl;\n",
    "}"
   ]
  },
  {
   "cell_type": "markdown",
   "id": "29bbb6e2",
   "metadata": {},
   "source": [
    "Here is standard code to carry out procedures A and B, and manage resource R: "
   ]
  },
  {
   "cell_type": "code",
   "execution_count": null,
   "id": "46247ef9",
   "metadata": {},
   "outputs": [],
   "source": [
    "acquireR(10);\n",
    "int eval_b = procedureA();\n",
    "if (eval_b > 0) {\n",
    "    acquireR(eval_b);\n",
    "}\n",
    "procedureB();\n",
    "releaseR(10);\n",
    "if (eval_b > 0) {\n",
    "    releaseR(eval_b);\n",
    "}"
   ]
  },
  {
   "cell_type": "markdown",
   "id": "6f18abd6",
   "metadata": {},
   "source": [
    "Use the RAII principles to execute procedures A and B and manage resource R appropriately."
   ]
  },
  {
   "cell_type": "code",
   "execution_count": null,
   "id": "8fd657aa",
   "metadata": {},
   "outputs": [],
   "source": []
  },
  {
   "cell_type": "markdown",
   "id": "346d6680",
   "metadata": {},
   "source": [
    "# Constructors and initializer lists\n",
    "\n",
    "How do we initialize an object of a class that has other objects as members? For example, suppose we define a linear polynomial $p(x) = ax + b$, where $a$ and $b$ are Rational?"
   ]
  },
  {
   "cell_type": "code",
   "execution_count": null,
   "id": "2a68f16f",
   "metadata": {},
   "outputs": [],
   "source": [
    "class Poly {\n",
    "    Rational a,b;\n",
    "    \n",
    "  public:\n",
    "    Poly(Rational coef1, Rational coef2);\n",
    "}"
   ]
  },
  {
   "cell_type": "code",
   "execution_count": null,
   "id": "9813811d",
   "metadata": {},
   "outputs": [],
   "source": [
    "Poly::Poly(Rational coef1, Rational coef2) {\n",
    "    a = coef1;\n",
    "    b = coef2;\n",
    "}"
   ]
  },
  {
   "cell_type": "code",
   "execution_count": null,
   "id": "fe3083ec",
   "metadata": {},
   "outputs": [],
   "source": [
    "Poly p(Rational{1,2}, Rational{15,13});"
   ]
  },
  {
   "cell_type": "markdown",
   "id": "9c071a71",
   "metadata": {},
   "source": [
    "What do you notice?"
   ]
  },
  {
   "cell_type": "markdown",
   "id": "62c41392",
   "metadata": {},
   "source": [
    "We can avoid the unnecessary call to the default constructor (for $a$ and $b$) if we use an initializer list:"
   ]
  },
  {
   "cell_type": "code",
   "execution_count": null,
   "id": "08013c3b",
   "metadata": {},
   "outputs": [],
   "source": [
    "Poly::Poly(Rational coef1, Rational coef2): a(coef1), b(coef2) {\n",
    "    // nothing here\n",
    "}"
   ]
  },
  {
   "cell_type": "markdown",
   "id": "49854f1d",
   "metadata": {},
   "source": [
    "Suppose we add a second generic constructor that accepts the numerator and denominators of the $a$ and $b$ coefficients:"
   ]
  },
  {
   "cell_type": "code",
   "execution_count": null,
   "id": "20f6906c",
   "metadata": {},
   "outputs": [],
   "source": [
    "class Poly {\n",
    "    Rational a,b;\n",
    "    \n",
    "  public:\n",
    "    Poly(Rational coef1, Rational coef2);\n",
    "    \n",
    "    Poly(int num1, int den1, int num2, int den2);\n",
    "}"
   ]
  },
  {
   "cell_type": "markdown",
   "id": "918eb39f",
   "metadata": {},
   "source": [
    "We can implement this constructor in a similar way as before,"
   ]
  },
  {
   "cell_type": "code",
   "execution_count": null,
   "id": "1f1f9b67",
   "metadata": {},
   "outputs": [],
   "source": [
    "Poly::Poly(int num1, int den1, int num2, int den2) {\n",
    "    a = Rational(num1, den1);\n",
    "    b = Rational(num2, den2);\n",
    "}"
   ]
  },
  {
   "cell_type": "code",
   "execution_count": null,
   "id": "c3f60257",
   "metadata": {},
   "outputs": [],
   "source": [
    "Poly p(1,2,15,13);"
   ]
  },
  {
   "cell_type": "markdown",
   "id": "772640b6",
   "metadata": {},
   "source": [
    "... or we can use an initializer list:"
   ]
  },
  {
   "cell_type": "code",
   "execution_count": null,
   "id": "a9aa397e",
   "metadata": {},
   "outputs": [],
   "source": [
    "Poly::Poly(int num1, int den1, int num2, int den2): a(num1,den1), b(num1,den1) {\n",
    "}"
   ]
  },
  {
   "cell_type": "code",
   "execution_count": null,
   "id": "37feef1f",
   "metadata": {},
   "outputs": [],
   "source": [
    "Poly p(1,2,15,13);"
   ]
  },
  {
   "cell_type": "markdown",
   "id": "be392fd8",
   "metadata": {},
   "source": [
    "**Exercise**:\n",
    "\n",
    "Expand the definition of the `Turtle` class from `1-classes.ipynb` to contain a `CImg` object on which the turtle can draw. Use an initializer list to initialize the `CImg`."
   ]
  },
  {
   "cell_type": "code",
   "execution_count": null,
   "id": "59b43235",
   "metadata": {},
   "outputs": [],
   "source": []
  }
 ],
 "metadata": {
  "kernelspec": {
   "display_name": "C++17",
   "language": "C++17",
   "name": "xcpp17"
  },
  "language_info": {
   "codemirror_mode": "text/x-c++src",
   "file_extension": ".cpp",
   "mimetype": "text/x-c++src",
   "name": "c++",
   "version": "17"
  }
 },
 "nbformat": 4,
 "nbformat_minor": 5
}
