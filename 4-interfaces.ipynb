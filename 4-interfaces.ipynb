{
 "cells": [
  {
   "cell_type": "markdown",
   "id": "a611ec83",
   "metadata": {},
   "source": [
    "# OOP - Interfaces, abstract base classes\n",
    "\n",
    "The most important OOP concept that facilitates modular design, polymorphism, and binding code during run-time.\n",
    "\n",
    "## Objectives\n",
    "\n",
    "1. Students will create abstract base classes that act as generic code interfaces.\n",
    "2. Students will use pointers to abstract base classes to call **concrete** classes via the abstract base class interface.\n",
    "3. Students will explain what virtual member functions are and how they are called.\n",
    "4. Students will use `new` and `delete` operators to manage dynamic memory.\n",
    "5. Students will use pointers to access dynamic memory.\n",
    "5. Students will explain the difference between reference variables and pointer variables.\n",
    "6. Students will use STL smart pointers to manage dynamic memory."
   ]
  },
  {
   "cell_type": "code",
   "execution_count": 1,
   "id": "2442b87a",
   "metadata": {},
   "outputs": [],
   "source": [
    "// setup\n",
    "#include <iostream>"
   ]
  },
  {
   "cell_type": "markdown",
   "id": "f7e67ba6",
   "metadata": {},
   "source": [
    "## Basic concepts - pointers, references\n",
    "\n",
    "1. Variables = memory location that can store a value of some data type (recap). More exactly, variable = compiler symbol that refers to the memory location.\n",
    "2. Any memory location has an address.\n",
    "3. A pointer is a variable that contains the address of some memory location."
   ]
  },
  {
   "cell_type": "code",
   "execution_count": 2,
   "id": "4ddb75f3",
   "metadata": {},
   "outputs": [
    {
     "name": "stdout",
     "output_type": "stream",
     "text": [
      "10\n",
      "0x76d4a2e0d02c\n"
     ]
    },
    {
     "data": {
      "text/plain": [
       "@0x76d49dffdb60"
      ]
     },
     "execution_count": 2,
     "metadata": {},
     "output_type": "execute_result"
    }
   ],
   "source": [
    "int a; // a integer variable; \n",
    "       // a=compiler symbol that refers to some memory location that can store integers.\n",
    "a = 10;\n",
    "std::cout << a << std::endl;  // outputs the value of a (content of memory location referred by symbol a)\n",
    "std::cout << &a << std::endl; // outputs the address of the memory location referred by symbol a"
   ]
  },
  {
   "cell_type": "code",
   "execution_count": 3,
   "id": "ec2de2ed",
   "metadata": {},
   "outputs": [
    {
     "name": "stdout",
     "output_type": "stream",
     "text": [
      "0x76d4a2e0d02c\n"
     ]
    }
   ],
   "source": [
    "int * p;  // p is a pointer (to locations that store integers) variable\n",
    "// we can assign the address of a to p:\n",
    "p = &a;\n",
    "std::cout << p << std::endl;"
   ]
  },
  {
   "cell_type": "markdown",
   "id": "a4d14504",
   "metadata": {},
   "source": [
    "4. We can manipulate the memory location that a pointer refers to if we use the **dereference operator** *:"
   ]
  },
  {
   "cell_type": "code",
   "execution_count": 4,
   "id": "31778032",
   "metadata": {},
   "outputs": [
    {
     "name": "stdout",
     "output_type": "stream",
     "text": [
      "10\n"
     ]
    }
   ],
   "source": [
    "// output the content of the memory location that p points to:\n",
    "std::cout << *p << std::endl;"
   ]
  },
  {
   "cell_type": "code",
   "execution_count": 7,
   "id": "4a8f36bf",
   "metadata": {},
   "outputs": [
    {
     "name": "stdout",
     "output_type": "stream",
     "text": [
      "Variable a before incrementing (*p): 12\n",
      "Variable a after incrementing (*p): 13\n"
     ]
    }
   ],
   "source": [
    "// change the content of the memory location that p points to:\n",
    "std::cout << \"Variable a before incrementing (*p): \" << a << std::endl;\n",
    "(*p)++;\n",
    "std::cout << \"Variable a after incrementing (*p): \" << a << std::endl;"
   ]
  },
  {
   "cell_type": "markdown",
   "id": "dd1ee016",
   "metadata": {},
   "source": [
    "**Exercises**\n",
    "1. Define a string variable and a pointer to a string.\n",
    "2. Have the pointer point to the memory location of the string variable.\n",
    "3. Change the string using the string variable.\n",
    "4. Change the string using the pointer variable.\n",
    "5. Define a second string variable. Change this second string using the same pointer variable."
   ]
  },
  {
   "cell_type": "code",
   "execution_count": null,
   "id": "be916694",
   "metadata": {},
   "outputs": [],
   "source": []
  },
  {
   "cell_type": "code",
   "execution_count": 8,
   "id": "57f8a383",
   "metadata": {},
   "outputs": [],
   "source": [
    "// Exercise 6: What does the following statement do?\n",
    "*(&a) = 20;"
   ]
  },
  {
   "cell_type": "markdown",
   "id": "cb7bb97a",
   "metadata": {},
   "source": [
    "### Pointers and dynamic memory ###\n",
    "1. How do we normally manipulate memory locations that store data in our programs?\n",
    "2. Dynamic memory:"
   ]
  },
  {
   "cell_type": "code",
   "execution_count": null,
   "id": "401de19a",
   "metadata": {},
   "outputs": [],
   "source": []
  },
  {
   "cell_type": "markdown",
   "id": "5843235a",
   "metadata": {},
   "source": [
    "## Abstract base classes (ABC) ##\n",
    "ABC = a class containing only member functions (no member data), but the member functions do not have a body."
   ]
  },
  {
   "cell_type": "markdown",
   "id": "f0063366",
   "metadata": {},
   "source": [
    "Let's introduce an **almost** abstract class: no data but the member functions have a body."
   ]
  },
  {
   "cell_type": "code",
   "execution_count": 11,
   "id": "71b10c09",
   "metadata": {},
   "outputs": [],
   "source": [
    "class BasicDiscount {\n",
    "    public:\n",
    "    // returns discounted price when given the <full_price>\n",
    "    double apply_discount(double full_price){\n",
    "        std::cout << \"Basic discount\" << std::endl;\n",
    "        return full_price;  // no discount at all\n",
    "    }\n",
    "}"
   ]
  },
  {
   "cell_type": "markdown",
   "id": "bdbea069",
   "metadata": {},
   "source": [
    "Suppose we introduce a 10% discount policy for students. We can override the `apply_discount()` function using inheritance."
   ]
  },
  {
   "cell_type": "code",
   "execution_count": 12,
   "id": "c7dc9168",
   "metadata": {},
   "outputs": [],
   "source": [
    "// write code here\n",
    "class StudentDiscount : public BasicDiscount {\n",
    "    public:\n",
    "    double apply_discount(double full_price){\n",
    "        std::cout << \"Student discount\" << std::endl;\n",
    "        return 0.9*full_price;  // 10% discount\n",
    "    }\n",
    "}"
   ]
  },
  {
   "cell_type": "code",
   "execution_count": 14,
   "id": "82cb2dfb",
   "metadata": {},
   "outputs": [
    {
     "name": "stdout",
     "output_type": "stream",
     "text": [
      "Basic on 100$: Basic discount\n",
      "100\n",
      "Student on 100$: Student discount\n",
      "90\n"
     ]
    }
   ],
   "source": [
    "// test\n",
    "BasicDiscount bd;\n",
    "StudentDiscount sd;\n",
    "std::cout << \"Basic on 100$: \" << bd.apply_discount(100) << std::endl;\n",
    "std::cout << \"Student on 100$: \" << sd.apply_discount(100) << std::endl;"
   ]
  },
  {
   "cell_type": "markdown",
   "id": "34846d4b",
   "metadata": {},
   "source": [
    "We introduce now a **cashier** cell that processes customers. This cell will apply the discount policy using a generic **customer** variable `cust`:"
   ]
  },
  {
   "cell_type": "code",
   "execution_count": 18,
   "id": "7c6db11c",
   "metadata": {},
   "outputs": [
    {
     "name": "stdout",
     "output_type": "stream",
     "text": [
      "200\n",
      "Discounted price on 200$ is Basic discount\n",
      "200\n"
     ]
    }
   ],
   "source": [
    "// cashier\n",
    "double price;\n",
    "std::cin >> price;\n",
    "std::cout << \"Discounted price on \" << price << \"$ is \" << cust.apply_discount(price) << std::endl;"
   ]
  },
  {
   "cell_type": "markdown",
   "id": "c5e7467b",
   "metadata": {},
   "source": [
    "Suppose the next customer in line is a regular customer. Then we want to assign `cust` to a `BasicDiscount` object. If the next customer in line is a student, then we want to assign `cust` a `StudentDiscount` object. To do that, we can choose the type for `cust` to be the base class: `BasicDiscount`."
   ]
  },
  {
   "cell_type": "code",
   "execution_count": 15,
   "id": "3dbd16d8",
   "metadata": {},
   "outputs": [],
   "source": [
    "BasicDiscount cust;"
   ]
  },
  {
   "cell_type": "markdown",
   "id": "52d75eee",
   "metadata": {},
   "source": [
    "If the next in line is a regular customer, then:"
   ]
  },
  {
   "cell_type": "code",
   "execution_count": 16,
   "id": "d47cb876",
   "metadata": {},
   "outputs": [],
   "source": [
    "cust = bd;"
   ]
  },
  {
   "cell_type": "markdown",
   "id": "3a348fc5",
   "metadata": {},
   "source": [
    "If the next in line is a student customer, then:"
   ]
  },
  {
   "cell_type": "code",
   "execution_count": 17,
   "id": "77c3721e",
   "metadata": {},
   "outputs": [],
   "source": [
    "cust = sd;"
   ]
  },
  {
   "cell_type": "markdown",
   "id": "16f7f5c0",
   "metadata": {},
   "source": [
    "Simulate various customers in line by executing the appropriate cell then running the cashier cell. What do you notice?"
   ]
  },
  {
   "cell_type": "markdown",
   "id": "47dffc04",
   "metadata": {},
   "source": [
    "### Cashier version 2 ###\n",
    "We had problems because `cust` is of type `BasicDiscount` so the `BasicDiscount` member functions are always called. What if we make `cust` a pointer variable? This way we could actually call the `bd` or `sd` objects?"
   ]
  },
  {
   "cell_type": "code",
   "execution_count": 19,
   "id": "ce895e45",
   "metadata": {},
   "outputs": [],
   "source": [
    "//  cashier with pointer to the discount object"
   ]
  },
  {
   "cell_type": "code",
   "execution_count": 20,
   "id": "671bf15f",
   "metadata": {},
   "outputs": [],
   "source": [
    "// next in line is regular customer"
   ]
  },
  {
   "cell_type": "code",
   "execution_count": 21,
   "id": "1b872475",
   "metadata": {},
   "outputs": [],
   "source": [
    "// next in line is student customer"
   ]
  },
  {
   "cell_type": "markdown",
   "id": "979d85a7",
   "metadata": {},
   "source": [
    "What do you notice?"
   ]
  },
  {
   "cell_type": "markdown",
   "id": "63e2cd43",
   "metadata": {},
   "source": [
    "### Cashier version 3 ###\n",
    "To enable run-time binding of the `apply_discount` function to a version that depends on the object pointed to by `cust`, use the keyword `virtual` in the base class definition for `apply_discount`."
   ]
  },
  {
   "cell_type": "code",
   "execution_count": null,
   "id": "946a1f00",
   "metadata": {},
   "outputs": [],
   "source": []
  }
 ],
 "metadata": {
  "kernelspec": {
   "display_name": "C++17",
   "language": "C++17",
   "name": "xcpp17"
  },
  "language_info": {
   "codemirror_mode": "text/x-c++src",
   "file_extension": ".cpp",
   "mimetype": "text/x-c++src",
   "name": "c++",
   "version": "17"
  }
 },
 "nbformat": 4,
 "nbformat_minor": 5
}
