{
 "cells": [
  {
   "cell_type": "markdown",
   "id": "6076dbbf",
   "metadata": {},
   "source": [
    "# Objectives\n",
    "\n",
    "1. Students will (write code to ) define classes and objects in C++. \n",
    "2. Students will call member functions through objects. \n",
    "3. Students will identify the lines of code that are within a particular class scope and the code that is outside class scope.\n",
    "3. Students will control how members of a class are accessed outside class scope.\n",
    "\n",
    "## Reading:\n",
    "\n",
    "[C++ Primer](https://cpp-primer.pages.dev/), Chapter 7:\n",
    "\n",
    "1. Section 7.1 Defining Abstract Data Types\n",
    "\n",
    "2. Section 7.2 Access Control and Encapsulation"
   ]
  },
  {
   "cell_type": "markdown",
   "id": "efb19a1b",
   "metadata": {},
   "source": [
    "# Object Oriented Programming (OOP) - classes and objects\n",
    "\n",
    "__Definition.__ A programming paradigm based on the concept of object. Objects group data and function together.\n",
    "\n",
    "__Class__ = a data type (structure) containing variable declarations and functions using those variables. The variables and functions inside the class are called **member** variables and functions. \n",
    "\n",
    "Note that member functions can access the member variables as if they were *global variables*.\n",
    "\n",
    "__Object__ = an instance of a class, aka a variable declared as having the corresponding class type."
   ]
  },
  {
   "cell_type": "code",
   "execution_count": 4,
   "id": "153334d8",
   "metadata": {},
   "outputs": [],
   "source": [
    "// a class\n",
    "struct Turtle {\n",
    "    // position of the turtle\n",
    "    int x,y;\n",
    "    // angle (in degrees) in relation to direction NORTH;\n",
    "    // angle measurement is in clockwise direction\n",
    "    int orientation; \n",
    "    \n",
    "    void fd(int length) {\n",
    "        int newx, newy;\n",
    "        newx = x + length * std::sin(radians(orientation));\n",
    "        newy = y + length * std::cos(radians(orientation));\n",
    "        draw_line(x,y, newx, newy);\n",
    "        x = newx;\n",
    "        y = newy;\n",
    "    }\n",
    "};"
   ]
  },
  {
   "cell_type": "code",
   "execution_count": 1,
   "id": "9ae431d9",
   "metadata": {},
   "outputs": [],
   "source": [
    "// define your environment, includes, and stub functions\n",
    "#include <cmath>\n",
    "#include <iostream>"
   ]
  },
  {
   "cell_type": "code",
   "execution_count": 2,
   "id": "f327af9d",
   "metadata": {},
   "outputs": [],
   "source": [
    "// converts degrees to radians\n",
    "float radians(int angle) {\n",
    "    return angle*M_PI/180;\n",
    "};"
   ]
  },
  {
   "cell_type": "code",
   "execution_count": 3,
   "id": "883fe7c4",
   "metadata": {},
   "outputs": [],
   "source": [
    "// draws a line\n",
    "void draw_line(int x, int y, int tox, int toy) {\n",
    "    std::cout << \"Line \" << x << \",\" << y << \",\" << tox << \",\" << toy << std::endl;\n",
    "};"
   ]
  },
  {
   "cell_type": "code",
   "execution_count": 10,
   "id": "de12e01c",
   "metadata": {},
   "outputs": [],
   "source": [
    "// object: an instance of class Turtle (a variable of type Turtle)\n",
    "Turtle t;"
   ]
  },
  {
   "cell_type": "code",
   "execution_count": 11,
   "id": "8bd2c09d",
   "metadata": {},
   "outputs": [
    {
     "name": "stdout",
     "output_type": "stream",
     "text": [
      "Line 0,0,0,110\n"
     ]
    }
   ],
   "source": [
    "t.fd(110);  // notice that fd() acts on the t object state;"
   ]
  },
  {
   "cell_type": "code",
   "execution_count": 12,
   "id": "021db815",
   "metadata": {},
   "outputs": [
    {
     "name": "stdout",
     "output_type": "stream",
     "text": [
      "Line 0,110,8,115\n"
     ]
    }
   ],
   "source": [
    "// suppose data members are visible and this \"client\" assigns 45 to orientation\n",
    "t.orientation=45;\n",
    "t.fd(10);"
   ]
  },
  {
   "cell_type": "code",
   "execution_count": 9,
   "id": "9fbd2741",
   "metadata": {},
   "outputs": [],
   "source": [
    "// we decide to change orientation from int (degrees) into float (radian)\n",
    "// Turtle version 2\n",
    "struct Turtle {\n",
    "    // position of the turtle\n",
    "    int x,y;\n",
    "    // angle (in degrees) in relation to direction NORTH;\n",
    "    // angle measurement is in clockwise direction\n",
    "    double orientation; \n",
    "    \n",
    "    void fd(int length) {\n",
    "        int newx, newy;\n",
    "        newx = x + length * std::sin(orientation);\n",
    "        newy = y + length * std::cos(orientation);\n",
    "        draw_line(x,y, newx, newy);\n",
    "        x = newx;\n",
    "        y = newy;\n",
    "    }\n",
    "};"
   ]
  },
  {
   "cell_type": "markdown",
   "id": "d287a20f",
   "metadata": {},
   "source": [
    "__Discussion__\n",
    "1. Why grouping data and functions together is desirable?\n",
    "2. Member functions can access member variables as if they were global variables. Isn't this bad practice?"
   ]
  },
  {
   "cell_type": "markdown",
   "id": "cc7979bf",
   "metadata": {},
   "source": [
    "__Exercises__\n",
    "\n",
    "1. Create a second turtle object. Move it forward 300 units. What happens to the first turtle object?\n",
    "3. Add a right turn function to the turtle class. Choose which version of Turtle (double vs int for orientation) you like. Ex: `void rt(int angle)`, `angle in degrees`\n",
    "1. Define a class called *Rational* that implements a rational number represented in fraction form, $\\frac{a}{b}$.\n",
    "  1. Define data members for the numerator and denominator.\n",
    "  2. Define a member function that adds two rational numbers. Think of the different ways you can define the prototype for that function.\n",
    "  3. Create two rational objects and add them. How can you assign values to your rational object?"
   ]
  },
  {
   "cell_type": "code",
   "execution_count": null,
   "id": "0ca70a5b",
   "metadata": {},
   "outputs": [],
   "source": []
  },
  {
   "cell_type": "markdown",
   "id": "a4a0ac18",
   "metadata": {},
   "source": [
    "# OOP - encapsulation (data hiding)\n",
    "\n",
    "Accessing class members.\n",
    "\n",
    "1. From within function members (within class scope), as if data members are global variables.\n",
    "2. From outside class scope, using struct access operator '.'."
   ]
  },
  {
   "cell_type": "code",
   "execution_count": 21,
   "id": "c54588ea",
   "metadata": {},
   "outputs": [
    {
     "name": "stderr",
     "output_type": "stream",
     "text": [
      "\u001b[1minput_line_31:6:17: \u001b[0m\u001b[0;1;31merror: \u001b[0m\u001b[1m'x' is a private member of '__cling_N520::Turtle'\u001b[0m\n",
      "std::cout << t2.x << std::endl;   // access the x of t2 object.\n",
      "\u001b[0;1;32m                ^\n",
      "\u001b[0m\u001b[1minput_line_29:4:9: \u001b[0m\u001b[0;1;30mnote: \u001b[0mimplicitly declared private here\u001b[0m\n",
      "    int x,y;\n",
      "\u001b[0;1;32m        ^\n",
      "\u001b[0m"
     ]
    },
    {
     "ename": "Interpreter Error",
     "evalue": "",
     "output_type": "error",
     "traceback": [
      "Interpreter Error: "
     ]
    }
   ],
   "source": [
    "// outside class scope:\n",
    "Turtle t2;\n",
    "t2.fd(10);   // access the fd() of t2 object\n",
    "// will this compile?\n",
    "std::cout << t2.x << std::endl;   // access the x of t2 object."
   ]
  },
  {
   "cell_type": "markdown",
   "id": "139b7d34",
   "metadata": {},
   "source": [
    "Use `class` keyword, not `struct` because the default member visibility mode is **private**."
   ]
  },
  {
   "cell_type": "code",
   "execution_count": 19,
   "id": "53d885ae",
   "metadata": {},
   "outputs": [],
   "source": [
    "// a class with access control specification\n",
    "class Turtle {\n",
    "    // position of the turtle\n",
    "    int x,y;\n",
    "    // angle (in degrees) in relation to direction NORTH;\n",
    "    // angle measurement is in clockwise direction\n",
    "    int orientation; \n",
    "    \n",
    "    public:\n",
    "    void fd(int length) {\n",
    "        int newx, newy;\n",
    "        newx = x + length * std::sin(radians(orientation));\n",
    "        newy = y + length * std::cos(radians(orientation));\n",
    "        draw_line(x,y, newx, newy);\n",
    "        x = newx;\n",
    "        y = newy;\n",
    "    }\n",
    "};"
   ]
  },
  {
   "cell_type": "markdown",
   "id": "0f97be33",
   "metadata": {},
   "source": [
    "**Discussion**\n",
    "\n",
    "1. Although from within class scope, we access data members such as `int x` like global variables, outside class scope we must access `x` via its object (`t2`). So, `x` is not really a global variable. Are we OK, then?"
   ]
  },
  {
   "cell_type": "markdown",
   "id": "5b8838a5",
   "metadata": {},
   "source": [
    "YES/NO?"
   ]
  },
  {
   "cell_type": "markdown",
   "id": "470c3c54",
   "metadata": {},
   "source": [
    "We can controll access to members from outside class scope using access control specification: `public:`, `private:`. \n",
    "\n",
    "Every declaration that follows a `public:` specification is accessible from outside class scope.\n",
    "\n",
    "Every declaration that follows a `private:` specification is NOT accessible from outside class scope."
   ]
  },
  {
   "cell_type": "code",
   "execution_count": 14,
   "id": "10cc1d48",
   "metadata": {},
   "outputs": [],
   "source": [
    "// a class with access control specification\n",
    "struct Turtle {\n",
    "    private:\n",
    "    // position of the turtle\n",
    "    int x,y;\n",
    "    // angle (in degrees) in relation to direction NORTH;\n",
    "    // angle measurement is in clockwise direction\n",
    "    int orientation; \n",
    "    \n",
    "    public:\n",
    "    void fd(int length) {\n",
    "        int newx, newy;\n",
    "        newx = x + length * std::sin(radians(orientation));\n",
    "        newy = y + length * std::cos(radians(orientation));\n",
    "        draw_line(x,y, newx, newy);\n",
    "        x = newx;\n",
    "        y = newy;\n",
    "    }\n",
    "};"
   ]
  }
 ],
 "metadata": {
  "kernelspec": {
   "display_name": "C++17",
   "language": "C++17",
   "name": "xcpp17"
  },
  "language_info": {
   "codemirror_mode": "text/x-c++src",
   "file_extension": ".cpp",
   "mimetype": "text/x-c++src",
   "name": "c++",
   "version": "17"
  }
 },
 "nbformat": 4,
 "nbformat_minor": 5
}
